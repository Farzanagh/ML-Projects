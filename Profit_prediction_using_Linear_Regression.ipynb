{
  "nbformat": 4,
  "nbformat_minor": 0,
  "metadata": {
    "colab": {
      "provenance": [],
      "authorship_tag": "ABX9TyPWFtSTQ0TWGZtM52BeIjqk",
      "include_colab_link": true
    },
    "kernelspec": {
      "name": "python3",
      "display_name": "Python 3"
    },
    "language_info": {
      "name": "python"
    }
  },
  "cells": [
    {
      "cell_type": "markdown",
      "metadata": {
        "id": "view-in-github",
        "colab_type": "text"
      },
      "source": [
        "<a href=\"https://colab.research.google.com/github/Farzanagh/ML-Projects/blob/main/Profit_prediction_using_Linear_Regression.ipynb\" target=\"_parent\"><img src=\"https://colab.research.google.com/assets/colab-badge.svg\" alt=\"Open In Colab\"/></a>"
      ]
    },
    {
      "cell_type": "code",
      "execution_count": 2,
      "metadata": {
        "colab": {
          "base_uri": "https://localhost:8080/"
        },
        "id": "YUsfXFSvxMdj",
        "outputId": "96ee5011-ee73-4236-f0a1-8c6b5db92f96"
      },
      "outputs": [
        {
          "output_type": "stream",
          "name": "stdout",
          "text": [
            "   Marketing Spend  Administration  Transport     Area     Profit\n",
            "0        114523.61       136897.80  471784.10    Dhaka  192261.83\n",
            "1        162597.70       151377.59  443898.53      Ctg  191792.06\n",
            "2        153441.51       101145.55  407934.54  Rangpur  191050.39\n",
            "3        144372.41       118671.85  383199.62    Dhaka  182901.99\n",
            "4        142107.34        91391.77  366168.42  Rangpur  166187.94\n",
            "(50, 5)\n",
            "(50,)\n",
            "0.884097862392347\n",
            "0.884097862392347\n"
          ]
        }
      ],
      "source": [
        "from sklearn.model_selection import train_test_split\n",
        "from sklearn.linear_model import LinearRegression\n",
        "import numpy as np\n",
        "import pandas as pd\n",
        "import matplotlib.pyplot as plt\n",
        "import seaborn as sns\n",
        "df=pd.read_csv('/content/online.csv')\n",
        "print(df.head())\n",
        "df.isnull().sum()\n",
        "x=df.drop(['Profit'],axis=1)\n",
        "y=df['Profit']\n",
        "city= pd.get_dummies(x['Area'], drop_first= True )\n",
        "# city\n",
        "x=x.drop(['Area'],axis=1)\n",
        "# new\n",
        "x=pd.concat([x,city],axis=1)\n",
        "print(x.shape)\n",
        "print(y.shape)\n",
        "# df1\n",
        "xtrain,xtest,ytrain,ytest = train_test_split(x,y, test_size=.25, random_state=0)\n",
        "lir= LinearRegression()\n",
        "lir.fit(xtrain,ytrain)\n",
        "LinearRegression()\n",
        "pred=lir.predict(xtest)\n",
        "score= lir.score(xtest,ytest)\n",
        "print(score)\n",
        "from sklearn.metrics import r2_score\n",
        "rscore=r2_score(ytest,pred)\n",
        "print(rscore)\n"
      ]
    }
  ]
}